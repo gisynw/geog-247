{
 "cells": [
  {
   "cell_type": "markdown",
   "metadata": {},
   "source": [
    "<iframe src=\"https://gisynw.github.io/geog-247/Labs/Practice01/Practice01geog247_347Spring2025.pdf\" width=\"120%\" height=\"800\"></iframe>\n",
    "\n"
   ]
  }
 ],
 "metadata": {
  "language_info": {
   "name": "python"
  }
 },
 "nbformat": 4,
 "nbformat_minor": 2
}
